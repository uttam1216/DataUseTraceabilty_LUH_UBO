{
 "cells": [
  {
   "cell_type": "markdown",
   "metadata": {
    "pycharm": {
     "name": "#%% md\n"
    }
   },
   "source": [
    "This notebook demonstrates the usage of the Re-identification Module \"AGE-Trace\"."
   ]
  },
  {
   "cell_type": "code",
   "execution_count": null,
   "metadata": {
    "pycharm": {
     "name": "#%%\n"
    }
   },
   "outputs": [],
   "source": [
    "import numpy as np\n",
    "import random\n",
    "import requests\n",
    "import json\n",
    "\n",
    "from re_identification_age_trace import AGE_Trace_reidentification"
   ]
  },
  {
   "cell_type": "code",
   "execution_count": null,
   "metadata": {
    "pycharm": {
     "name": "#%%\n"
    }
   },
   "outputs": [],
   "source": [
    "# Load test data\n",
    "\n",
    "exp_data_path = './saved_model'\n",
    "own_set = np.load(exp_data_path + '/' + 'own_set.npy')\n",
    "total_set_labels = np.load(exp_data_path + '/' + 'labels.npy')\n",
    "#set_description = np.load(exp_data_path + '/' + exp_data_name + '_set_description.npy')\n",
    "total_set = np.load(exp_data_path + '/'  + 'test_data.npy')\n",
    "\n",
    "# Use random trace from test set\n",
    "n = random.randint(0,total_set.shape[0])\n",
    "\n",
    "trace = total_set[n]\n",
    "label = total_set_labels[n]\n"
   ]
  },
  {
   "cell_type": "code",
   "execution_count": null,
   "metadata": {
    "pycharm": {
     "name": "#%%\n"
    }
   },
   "outputs": [],
   "source": [
    "# TEST directly by creating instance of AGE Trace Model\n",
    "reidentification_model = AGE_Trace_reidentification()\n",
    "pred = reidentification_model.re_identify_data(own_set, trace)\n",
    "print(\"Used {}th entry.\".format(n))\n",
    "print(\"Predicted result: {}\".format(pred))\n",
    "print(\"True Label: {}\".format(label))"
   ]
  },
  {
   "cell_type": "code",
   "execution_count": null,
   "metadata": {
    "pycharm": {
     "name": "#%%\n"
    }
   },
   "outputs": [],
   "source": [
    "# TEST via REST API\n",
    "body = {\n",
    "  \"own_data\": own_set.tolist(),\n",
    "  \"trajectory\": trace.tolist()\n",
    "}\n",
    "url = 'http://localhost:5001/reidentify_fingerprint'\n",
    "res = requests.post(url, json = body)\n",
    "res.json()"
   ]
  },
  {
   "cell_type": "code",
   "execution_count": null,
   "metadata": {
    "pycharm": {
     "name": "#%%\n"
    }
   },
   "outputs": [],
   "source": [
    "print(\"Used {}th entry.\".format(n))\n",
    "print(\"Predicted result: {}\".format(res.json()['result']))\n",
    "print(\"True Label: {}\".format(label))"
   ]
  },
  {
   "cell_type": "code",
   "execution_count": null,
   "metadata": {
    "pycharm": {
     "name": "#%%\n"
    }
   },
   "outputs": [],
   "source": []
  }
 ],
 "metadata": {
  "kernelspec": {
   "display_name": "traceability_venv",
   "language": "python",
   "name": "traceability_venv"
  },
  "language_info": {
   "codemirror_mode": {
    "name": "ipython",
    "version": 3
   },
   "file_extension": ".py",
   "mimetype": "text/x-python",
   "name": "python",
   "nbconvert_exporter": "python",
   "pygments_lexer": "ipython3",
   "version": "3.9.6"
  },
  "vscode": {
   "interpreter": {
    "hash": "11938c6bc6919ae2720b4d5011047913343b08a43b18698fd82dedb0d4417594"
   }
  }
 },
 "nbformat": 4,
 "nbformat_minor": 1
}